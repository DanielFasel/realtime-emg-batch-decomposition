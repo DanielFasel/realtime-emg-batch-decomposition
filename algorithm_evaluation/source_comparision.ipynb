{
 "cells": [
  {
   "cell_type": "markdown",
   "metadata": {},
   "source": [
    "# This notebook compares two sources. \n",
    "It looks at the rate of agreement between the spike trains. Looking at how many spikes are matched, in other word happen at the same time within a given margin."
   ]
  },
  {
   "cell_type": "code",
   "execution_count": null,
   "metadata": {},
   "outputs": [],
   "source": [
    "list1 = [13,18,25,95,98]\n",
    "list2 = [4,14,28,29,31,43,65,72,78,94]"
   ]
  },
  {
   "cell_type": "code",
   "execution_count": null,
   "metadata": {},
   "outputs": [
    {
     "name": "stdout",
     "output_type": "stream",
     "text": [
      "Cheking: 2 & 3\n",
      "Difference: 1\n",
      "Cheking: 2 & 19\n",
      "Difference: 17\n",
      "There is no way back!\n",
      "Cheking: 16 & 3\n",
      "Difference: 13\n",
      "Cheking: 16 & 19\n",
      "Difference: 3\n",
      "Cheking: 16 & 25\n",
      "Difference: 9\n",
      "There is no way back!\n",
      "Cheking: 56 & 3\n",
      "Difference: 53\n",
      "Cheking: 56 & 19\n",
      "Difference: 37\n",
      "Cheking: 56 & 25\n",
      "Difference: 31\n",
      "Cheking: 56 & 26\n",
      "Difference: 30\n",
      "Cheking: 56 & 55\n",
      "Difference: 1\n",
      "Cheking: 56 & 60\n",
      "Difference: 4\n",
      "Cheking: 56 & 64\n",
      "Difference: 8\n",
      "There is no way back!\n",
      "Cheking: 63 & 3\n",
      "Difference: 60\n",
      "Cheking: 63 & 19\n",
      "Difference: 44\n",
      "Cheking: 63 & 25\n",
      "Difference: 38\n",
      "Cheking: 63 & 26\n",
      "Difference: 37\n",
      "Cheking: 63 & 55\n",
      "Difference: 8\n",
      "Cheking: 63 & 60\n",
      "Difference: 3\n",
      "Cheking: 63 & 64\n",
      "Difference: 1\n",
      "Cheking: 63 & 69\n",
      "Difference: 6\n",
      "There is no way back!\n",
      "Cheking: 90 & 3\n",
      "Difference: 87\n",
      "Cheking: 90 & 19\n",
      "Difference: 71\n",
      "Cheking: 90 & 25\n",
      "Difference: 65\n",
      "Cheking: 90 & 26\n",
      "Difference: 64\n",
      "Cheking: 90 & 55\n",
      "Difference: 35\n",
      "Cheking: 90 & 60\n",
      "Difference: 30\n",
      "Cheking: 90 & 64\n",
      "Difference: 26\n",
      "Cheking: 90 & 69\n",
      "Difference: 21\n",
      "Cheking: 90 & 82\n",
      "Difference: 8\n",
      "Cheking: 90 & 97\n",
      "Difference: 7\n",
      "There is no way back!\n"
     ]
    }
   ],
   "source": [
    "tolerance = 5\n",
    "duplicate_matches = 0\n",
    "\n",
    "list1_matches = set()\n",
    "list2_matches = set()\n",
    "list1_duplicates = set()\n",
    "list2_duplicates = set()\n",
    "\n",
    "for  spike_idx in list1:\n",
    "    for spike2_idx in list2:\n",
    "        print(f'Cheking: {spike_idx} & {spike2_idx}')\n",
    "        print(f'Difference: {abs(spike_idx-spike2_idx)}')\n",
    "\n",
    "        if  abs(spike_idx-spike2_idx) < tolerance:  \n",
    "            if spike_idx not in list1_matches and spike2_idx not in list2_matches:\n",
    "                \n",
    "                # Add the spike pair to the matched spikes\n",
    "                list1_matches.add(spike_idx)\n",
    "                list2_matches.add(spike2_idx)\n",
    "\n",
    "            else:\n",
    "                # Add the spike pair to the duplicate list\n",
    "                list1_duplicates.add(spike_idx)\n",
    "                list2_duplicates.add(spike2_idx)\n",
    "\n",
    "                # Incriment the duplicate counter\n",
    "                duplicate_matches += 1\n",
    "\n",
    "\n",
    "        if (spike_idx - spike2_idx) < - tolerance:\n",
    "            print('There is no way back!')\n",
    "            break\n",
    "\n",
    "list1_duplicates = list1_duplicates - list1_matches\n",
    "list2_duplicates = list2_duplicates - list2_matches\n",
    "\n",
    "matched_count = len(list1_matches) + len(list2_matches)\n",
    "spikes_with_duplicates = len(set(list1_duplicates)) + len(set(list2_duplicates))\n",
    "unmatched_count = len(list1) + len(list2) - matched_count - len(list1_duplicates) - len(list2_duplicates)\n",
    "\n"
   ]
  },
  {
   "cell_type": "code",
   "execution_count": null,
   "metadata": {},
   "outputs": [
    {
     "name": "stdout",
     "output_type": "stream",
     "text": [
      "Matched Spikes: 8, Unmatched spikes: 6, Spike with duplicates: 1\n",
      "Percentage of matched spikes: 57.14%\n",
      "Percentage of unmatched spikes: 42.86%\n"
     ]
    }
   ],
   "source": [
    "print(f'Matched Spikes: {matched_count}, Unmatched spikes: {unmatched_count}, Spike with duplicates: {spikes_with_duplicates}')\n",
    "\n",
    "total_count = matched_count + unmatched_count\n",
    "percentage_matched = (matched_count / total_count) * 100\n",
    "percentage_unmatched = (unmatched_count / total_count) * 100\n",
    "\n",
    "print(f\"Percentage of matched spikes: {percentage_matched:.2f}%\")\n",
    "print(f\"Percentage of unmatched spikes: {percentage_unmatched:.2f}%\")"
   ]
  }
 ],
 "metadata": {
  "kernelspec": {
   "display_name": "Python 3",
   "language": "python",
   "name": "python3"
  },
  "language_info": {
   "codemirror_mode": {
    "name": "ipython",
    "version": 3
   },
   "file_extension": ".py",
   "mimetype": "text/x-python",
   "name": "python",
   "nbconvert_exporter": "python",
   "pygments_lexer": "ipython3",
   "version": "3.12.1"
  }
 },
 "nbformat": 4,
 "nbformat_minor": 2
}
